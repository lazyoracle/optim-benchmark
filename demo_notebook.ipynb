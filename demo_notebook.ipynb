{
 "cells": [
  {
   "cell_type": "code",
   "execution_count": null,
   "metadata": {},
   "outputs": [],
   "source": [
    "from Optimizersv2 import *"
   ]
  },
  {
   "cell_type": "code",
   "execution_count": null,
   "metadata": {},
   "outputs": [],
   "source": [
    "#Setting plot params\n",
    "use_tex = False #use True if LaTeX compiler installed locally\n",
    "                #Preferably use before generating the final plots since it is quite slow\n",
    "plt.rcParams['figure.figsize'] = (12, 8)\n",
    "plt.rc('text', usetex=use_tex) \n",
    "plt.rc('font', family='serif')\n",
    "plt.rc('font', size=12)\n",
    "plt.rcParams['figure.dpi'] = 100\n",
    "plt.rcParams['savefig.dpi'] = 600 "
   ]
  },
  {
   "cell_type": "markdown",
   "metadata": {},
   "source": [
    "#### Low-dimensions"
   ]
  },
  {
   "cell_type": "code",
   "execution_count": null,
   "metadata": {},
   "outputs": [],
   "source": [
    "algo_list = ['CMA', 'NoisyBandit', 'NoisyOnePlusOne', 'PSO',\n",
    "             'RandomSearch', 'SPSA', 'TBPSA']\n",
    "func_list = ['rosenbrock', 'sphere4', 'rastrigin', 'griewank', 'deceptivepath']\n",
    "dim_list = [2, 3, 5, 8]\n",
    "eps_list = [0.5, 0.10, 0.05, 0.03, 0.02, 0.01, 0]\n",
    "log_list = [False]\n",
    "EVAL_BUDGET = 1000\n",
    "#CREATE A NEW FILE IF CHANGING THE NUMBER OF EVALUATIONS\n",
    "saved_file = \"results-low-dim.pkl\" #File to read from where previous expts were stored\n",
    "                            # or new file to write to\n",
    "save_interval = 600\n",
    "initials = [0.0, 5.0, -5.0, 23.46, -23.46]"
   ]
  },
  {
   "cell_type": "code",
   "execution_count": null,
   "metadata": {},
   "outputs": [],
   "source": [
    "run_exp(algo_list, func_list, dim_list, eps_list, log_list, EVAL_BUDGET, saved_file, 'pkl', initials, save_interval)"
   ]
  },
  {
   "cell_type": "code",
   "execution_count": null,
   "metadata": {},
   "outputs": [],
   "source": [
    "exp_df = pd.read_pickle('results-low-dim.pkl')"
   ]
  },
  {
   "cell_type": "code",
   "execution_count": null,
   "metadata": {},
   "outputs": [],
   "source": [
    "stripped_expt_df = exp_df.drop(columns = ['exp_data', 'min_params', 'f_min', 'time'])\n",
    "results_summary(stripped_expt_df)"
   ]
  },
  {
   "cell_type": "markdown",
   "metadata": {},
   "source": [
    "#### Plotting low-dimensions"
   ]
  },
  {
   "cell_type": "code",
   "execution_count": null,
   "metadata": {},
   "outputs": [],
   "source": [
    "eval_budget = 1000\n",
    "filter_func = lambda z: ((z['func'] in ['rastrigin']) and \n",
    "                     (z['dim'] == 5) and \n",
    "                     (z['log'] in [False]) and\n",
    "                     (z['algo'] in ['CMA', 'NoisyBandit', 'NoisyOnePlusOne', 'PSO',\n",
    "                                     'RandomSearch', 'SPSA', 'TBPSA']) and\n",
    "                     (z['starter'] in [5.0]) and  \n",
    "                     (z['noise_level'] in [0.03]))\n",
    "use_tex = False\n",
    "fig_test = plot_regular(exp_df, filter_func, use_tex, plot_evals = eval_budget, y_field = 'f_min', logplot='y')"
   ]
  },
  {
   "cell_type": "markdown",
   "metadata": {},
   "source": [
    "#### Medium Dimensions"
   ]
  },
  {
   "cell_type": "markdown",
   "metadata": {},
   "source": [
    "##### Medium Dimensions Part 1"
   ]
  },
  {
   "cell_type": "code",
   "execution_count": null,
   "metadata": {},
   "outputs": [],
   "source": [
    "algo_list = ['CMA', 'NoisyBandit', 'NoisyOnePlusOne', 'PSO',\n",
    "             'RandomSearch', 'SPSA', 'TBPSA']\n",
    "func_list = ['rosenbrock', 'sphere4', 'rastrigin', 'griewank', 'deceptivepath']\n",
    "dim_list = [12, 15, 20]\n",
    "eps_list = [0.5, 0.10, 0.05, 0.03, 0.02, 0.01, 0]\n",
    "log_list = [False]\n",
    "EVAL_BUDGET = 1000\n",
    "#CREATE A NEW FILE IF CHANGING THE NUMBER OF EVALUATIONS\n",
    "saved_file = \"results-mid-dim-1.pkl\" #File to read from where previous expts were stored\n",
    "                            # or new file to write to\n",
    "save_interval = 600\n",
    "initials = [0.0, 5.0, -5.0, 23.46, -23.46]"
   ]
  },
  {
   "cell_type": "markdown",
   "metadata": {},
   "source": [
    "##### Medium Dimensions Part 2"
   ]
  },
  {
   "cell_type": "code",
   "execution_count": null,
   "metadata": {},
   "outputs": [],
   "source": [
    "algo_list = ['CMA', 'NoisyBandit', 'NoisyOnePlusOne', 'PSO',\n",
    "             'RandomSearch', 'SPSA', 'TBPSA']\n",
    "func_list = ['rosenbrock', 'sphere4', 'rastrigin', 'griewank', 'deceptivepath']\n",
    "dim_list = [30, 50, 100]\n",
    "eps_list = [0.5, 0.10, 0.05, 0.03, 0.02, 0.01, 0]\n",
    "log_list = [False]\n",
    "EVAL_BUDGET = 1000\n",
    "#CREATE A NEW FILE IF CHANGING THE NUMBER OF EVALUATIONS\n",
    "saved_file = \"results-mid-dim-2.pkl\" #File to read from where previous expts were stored\n",
    "                            # or new file to write to\n",
    "save_interval = 600\n",
    "initials = [0.0, 5.0, -5.0, 23.46, -23.46]"
   ]
  },
  {
   "cell_type": "markdown",
   "metadata": {},
   "source": [
    "#### High Dimensions"
   ]
  },
  {
   "cell_type": "markdown",
   "metadata": {},
   "source": [
    "##### Part 1"
   ]
  },
  {
   "cell_type": "code",
   "execution_count": null,
   "metadata": {},
   "outputs": [],
   "source": [
    "algo_list = ['CMA', 'NoisyBandit', 'NoisyOnePlusOne', 'PSO',\n",
    "             'RandomSearch', 'SPSA', 'TBPSA']\n",
    "func_list = ['rosenbrock', 'sphere4', 'rastrigin', 'griewank', 'deceptivepath']\n",
    "dim_list = [100, 200]\n",
    "eps_list = [0.5, 0.10, 0.05, 0.03, 0.02, 0.01, 0]\n",
    "log_list = [False]\n",
    "EVAL_BUDGET = 1000\n",
    "#CREATE A NEW FILE IF CHANGING THE NUMBER OF EVALUATIONS\n",
    "saved_file = \"results-high-dim-1.pkl\" #File to read from where previous expts were stored\n",
    "                            # or new file to write to\n",
    "save_interval = 600\n",
    "initials = [0.0, 5.0, -5.0, 23.46, -23.46]"
   ]
  },
  {
   "cell_type": "markdown",
   "metadata": {},
   "source": [
    "##### Part 2"
   ]
  },
  {
   "cell_type": "code",
   "execution_count": null,
   "metadata": {},
   "outputs": [],
   "source": [
    "algo_list = ['CMA', 'NoisyBandit', 'NoisyOnePlusOne', 'PSO',\n",
    "             'RandomSearch', 'SPSA', 'TBPSA']\n",
    "func_list = ['rosenbrock', 'sphere4', 'rastrigin', 'griewank', 'deceptivepath']\n",
    "dim_list = [500, 1000]\n",
    "eps_list = [0.5, 0.10, 0.05, 0.03, 0.02, 0.01, 0]\n",
    "log_list = [False]\n",
    "EVAL_BUDGET = 1000\n",
    "#CREATE A NEW FILE IF CHANGING THE NUMBER OF EVALUATIONS\n",
    "saved_file = \"results-high-dim-2.pkl\" #File to read from where previous expts were stored\n",
    "                            # or new file to write to\n",
    "save_interval = 600\n",
    "initials = [0.0, 5.0, -5.0, 23.46, -23.46]"
   ]
  },
  {
   "cell_type": "markdown",
   "metadata": {},
   "source": [
    "### Plotting Evaluations to a specified Goal"
   ]
  },
  {
   "cell_type": "code",
   "execution_count": null,
   "metadata": {},
   "outputs": [],
   "source": [
    "shortlisted_algos = ['CMA','NoisyOnePlusOne','TBPSA','PSO']\n",
    "test_func = 'rosenbrock'\n",
    "dim_list = [2, 3, 5, 8, 10]\n",
    "noise_level = 0.03\n",
    "logify_flag = False\n",
    "goalX = 1e-5\n",
    "initial_vals = [5.0]\n",
    "plot_evalstoX(exp_df, shortlisted_algos, test_func, dim_list, logify_flag, noise_level, initial_vals, goalX)"
   ]
  }
 ],
 "metadata": {
  "kernelspec": {
   "display_name": "Python 3",
   "language": "python",
   "name": "python3"
  },
  "language_info": {
   "codemirror_mode": {
    "name": "ipython",
    "version": 3
   },
   "file_extension": ".py",
   "mimetype": "text/x-python",
   "name": "python",
   "nbconvert_exporter": "python",
   "pygments_lexer": "ipython3",
   "version": "3.7.3"
  }
 },
 "nbformat": 4,
 "nbformat_minor": 2
}
